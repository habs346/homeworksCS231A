{
 "cells": [
  {
   "cell_type": "markdown",
   "metadata": {
    "id": "LBciS_TD3JVl"
   },
   "source": [
    "# CS231a PSET 1\n",
    "\n",
    "You can use this Jupyter/Colab notebook to write your code in, which could save you the trouble of having to set up Python or installing packages."
   ]
  },
  {
   "cell_type": "markdown",
   "metadata": {},
   "source": [
    "# [Optional] Colab Preparation\n",
    "First, we need to be able to access the data for this problem. Run the following:"
   ]
  },
  {
   "cell_type": "code",
   "execution_count": 2,
   "metadata": {
    "id": "nAgQT2NoY4h0"
   },
   "outputs": [
    {
     "name": "stdout",
     "output_type": "stream",
     "text": [
      "Files in this folder:\n",
      "['.ipynb_checkpoints', 'back_image.npy', 'front.png', 'front_image.npy', 'p2.py', 'p3.py', 'PSET1.ipynb', 'real_XY.npy', 'utils.py', '__pycache__']\n"
     ]
    }
   ],
   "source": [
    "import os\n",
    "\n",
    "FOLDERNAME=\"E:\\course\\cs231a\\ps1\"\n",
    "\n",
    "# enter the foldername in your Drive where you have saved the unzipped\n",
    "# the files containing the '.npy' files needed for problem 2\n",
    "# e.g. '/content/drive/MyDrive/cs231a'\n",
    "\n",
    "\n",
    "assert FOLDERNAME is not None, \"[!] Enter the foldername.\"\n",
    "os.chdir(FOLDERNAME)\n",
    "\n",
    "print('Files in this folder:')\n",
    "print(os.listdir('.'))"
   ]
  },
  {
   "cell_type": "markdown",
   "metadata": {},
   "source": [
    "Also import the problem functions with autoreload:"
   ]
  },
  {
   "cell_type": "code",
   "execution_count": 3,
   "metadata": {},
   "outputs": [],
   "source": [
    "%load_ext autoreload\n",
    "%autoreload 2\n",
    "\n",
    "from p2 import compute_camera_matrix, rms_error, test_p2\n",
    "from p3 import (\n",
    "    compute_vanishing_point,\n",
    "    compute_K_from_vanishing_points,\n",
    "    compute_angle_between_planes,\n",
    "    compute_rotation_matrix_between_cameras,\n",
    "    test_p3,\n",
    ")"
   ]
  },
  {
   "cell_type": "markdown",
   "metadata": {
    "id": "eQVcAYd8ZjWh"
   },
   "source": [
    "# Problem 2: Affine Camera Calibration\n",
    "Now, you can fill out the logic for this problem. Please go to `p2.py` and fill out the following functions:\n",
    "- `compute_camera_matrix`\n",
    "- `rms_error`\n",
    "\n",
    "Once done, you can run the follow code to test your implementation. `p2.py` will be submitted to Gradescope."
   ]
  },
  {
   "cell_type": "code",
   "execution_count": 4,
   "metadata": {
    "id": "DAnLg3_DZpTn"
   },
   "outputs": [
    {
     "name": "stdout",
     "output_type": "stream",
     "text": [
      "Camera Matrix:\n",
      " [[ 5.31276507e-01 -1.80886074e-02  1.20509667e-01  1.29720641e+02]\n",
      " [ 4.84975447e-02  5.36366401e-01 -1.02675222e-01  4.43879607e+01]\n",
      " [ 0.00000000e+00  0.00000000e+00  0.00000000e+00  1.00000000e+00]]\n",
      "\n",
      "RMS Error:  0.993830483279844\n"
     ]
    },
    {
     "name": "stderr",
     "output_type": "stream",
     "text": [
      "e:\\course\\cs231a\\ps1\\p2.py:45: FutureWarning: `rcond` parameter will change to the default of machine precision times ``max(M, N)`` where M and N are the input matrix dimensions.\n",
      "To use the future default and silence this warning we advise to pass `rcond=None`, to keep using the old, explicitly pass `rcond=-1`.\n",
      "  M1=np.linalg.lstsq(Pi,p)[0].T\n"
     ]
    }
   ],
   "source": [
    "# Test code for CS231A Homework 1, Problem 2\n",
    "test_p2()"
   ]
  },
  {
   "cell_type": "markdown",
   "metadata": {
    "id": "ze1lB1gqbT4I"
   },
   "source": [
    "# Problem 3: Single View Geometry\n",
    "\n",
    "First, make sure you have already run the code block for having access to image files from Problem 2. Next, please go to `p3.py` and fill out the following functions:\n",
    "- `compute_vanishing_point`\n",
    "- `compute_K_from_vanishing_points`\n",
    "- `compute_angle_between_planes`\n",
    "- `compute_rotation_matrix_between_cameras`\n",
    "\n",
    "Once done, you can run the follow code to test your implementation. `p3.py` will be submitted to Gradescope."
   ]
  },
  {
   "cell_type": "code",
   "execution_count": 20,
   "metadata": {
    "id": "DcevGmVvbzHq"
   },
   "outputs": [
    {
     "name": "stdout",
     "output_type": "stream",
     "text": [
      "Intrinsic Matrix:\n",
      " [[2.36901605e+03 0.00000000e+00 1.37945684e+03]\n",
      " [0.00000000e+00 2.36901605e+03 9.63015492e+02]\n",
      " [0.00000000e+00 0.00000000e+00 1.00000000e+00]]\n",
      "\n",
      "Actual Matrix:\n",
      " [[2.448e+03 0.000e+00 1.253e+03]\n",
      " [0.000e+00 2.438e+03 9.860e+02]\n",
      " [0.000e+00 0.000e+00 1.000e+00]]\n",
      "\n",
      "Angle between floor and box: 89.81938858899669\n",
      "Rotation between two cameras:\n",
      " [[ 1.05220283 -0.06187726  0.06406076]\n",
      " [ 0.02418414  1.0221037  -0.03169809]\n",
      " [-0.09924512  0.0105692   0.91794226]]\n",
      "\n",
      "Angle around z-axis (pointing out of camera): 3.365537 degrees\n",
      "Angle around y-axis (pointing vertically): 3.989678 degrees\n",
      "Angle around x-axis (pointing horizontally): 1.977734 degrees\n"
     ]
    },
    {
     "name": "stderr",
     "output_type": "stream",
     "text": [
      "e:\\course\\cs231a\\ps1\\p3.py:106: FutureWarning: `rcond` parameter will change to the default of machine precision times ``max(M, N)`` where M and N are the input matrix dimensions.\n",
      "To use the future default and silence this warning we advise to pass `rcond=None`, to keep using the old, explicitly pass `rcond=-1`.\n",
      "  R=np.linalg.lstsq(direction1,direction2)[0].T\n"
     ]
    }
   ],
   "source": [
    "# Test code for CS231A Homework 1, Problem 3\n",
    "test_p3()"
   ]
  },
  {
   "cell_type": "markdown",
   "metadata": {
    "id": "5b6jy1S0cjmU"
   },
   "source": [
    "That's it, you are done! Remember to submit your code to Gradescope by zipping the `.py` files and uploading the zip file to the coding assignment.\n",
    "\n"
   ]
  }
 ],
 "metadata": {
  "accelerator": "GPU",
  "colab": {
   "provenance": []
  },
  "kernelspec": {
   "display_name": "Python 3 (ipykernel)",
   "language": "python",
   "name": "python3"
  },
  "language_info": {
   "codemirror_mode": {
    "name": "ipython",
    "version": 3
   },
   "file_extension": ".py",
   "mimetype": "text/x-python",
   "name": "python",
   "nbconvert_exporter": "python",
   "pygments_lexer": "ipython3",
   "version": "3.11.5"
  },
  "vscode": {
   "interpreter": {
    "hash": "944e8048bd0f6ff5585240a2597f4f4a37fcf4bdf49bc1e417c867d495ffd417"
   }
  }
 },
 "nbformat": 4,
 "nbformat_minor": 4
}
